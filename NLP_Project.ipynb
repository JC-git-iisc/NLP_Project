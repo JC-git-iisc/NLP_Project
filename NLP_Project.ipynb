{
  "cells": [
    {
      "cell_type": "markdown",
      "metadata": {
        "id": "k8ojDCEdYmXq"
      },
      "source": [
        "# Question Answering"
      ]
    },
    {
      "cell_type": "code",
      "execution_count": null,
      "metadata": {
        "id": "4fr-iQn5Cir6"
      },
      "outputs": [],
      "source": [
        "import transformers\n",
        "import random\n",
        "from tqdm.auto import tqdm\n",
        "from datasets import load_dataset, load_metric, ClassLabel, Sequence\n",
        "from transformers import AutoTokenizer, TFAutoModelForQuestionAnswering, DefaultDataCollator, create_optimizer\n",
        "import numpy as np\n",
        "import pandas as pd\n",
        "import tensorflow as tf\n",
        "import evaluation_custom as ev\n",
        "import matplotlib as mpl\n",
        "import matplotlib.pyplot as plt\n",
        "from collections import OrderedDict\n",
        "import evaluation_custom as ev\n",
        "import json\n",
        "import string\n",
        "import re"
      ]
    },
    {
      "cell_type": "markdown",
      "metadata": {
        "id": "Z1Iwn_s3Yz7y"
      },
      "source": [
        "Default dataset is the SQuAD dataset which is contained in training_set.json\n",
        "and you change it accordingly\n",
        "\n",
        "We can use the model of our choice with *ind* variable"
      ]
    },
    {
      "cell_type": "code",
      "execution_count": null,
      "metadata": {
        "id": "v8L0igdCXz6C"
      },
      "outputs": [],
      "source": [
        "duorc = False  # Set to False if you want to test only on SQuAD\n",
        "train = False  # Set to False if you do not want to train the model\n",
        "ind = 2  # Change the index from 0 to 2 to test different transformers\n",
        "model_checkpoint_list = [\"distilbert-base-uncased\", \"distilroberta-base\", 'albert-base-v2']\n",
        "model_checkpoint = model_checkpoint_list[ind]"
      ]
    },
    {
      "cell_type": "code",
      "execution_count": null,
      "metadata": {
        "id": "6sbj_nLAnqJG"
      },
      "outputs": [],
      "source": [
        "import json\n",
        "from datasets import load_dataset\n",
        "\n",
        "# Load the SQuAD dataset\n",
        "dataset_squad = load_dataset('squad', split='train')  # You can use 'train', 'validation', or 'test' splits\n",
        "df_squad = dataset_squad.to_pandas()\n",
        "\n",
        "# Drop any rows with missing answers (if applicable)\n",
        "df_squad = df_squad.dropna(subset=['answers'])\n",
        "\n",
        "# Initialize lists to store answer start positions and answers\n",
        "start_char = []\n",
        "to_remove = []\n",
        "\n",
        "# Iterate over the rows to find start positions of answers\n",
        "for i, row in df_squad.iterrows():\n",
        "    try:\n",
        "        # Find the start position of the answer in the context\n",
        "        start_char.append(row['context'].index(row['answers']['text'][0]))\n",
        "    except ValueError:  # Handle case where the answer is not found in context\n",
        "        to_remove.append(i)\n",
        "\n",
        "# Drop rows that could not be processed\n",
        "df_squad = df_squad.drop(index=to_remove)\n",
        "\n",
        "# Reset index after removing rows\n",
        "df_squad = df_squad.reset_index(drop=True)\n",
        "\n",
        "# Create answers column as a list of dictionaries\n",
        "df_squad['answers'] = [\n",
        "    {'answer_start': [start], 'text': [ans]}\n",
        "    for start, ans in zip(start_char, df_squad['answers'].apply(lambda x: x['text'][0]))\n",
        "]\n",
        "\n",
        "# Rename columns for consistency\n",
        "df_squad = df_squad.rename(columns={'title': 'title', 'question': 'question', 'context': 'context', 'answers': 'answers'})\n",
        "\n",
        "# Write processed data to a JSON file\n",
        "with open(\"squad.json\", 'w') as f:  # Use 'w' to overwrite the file each time\n",
        "    for i in range(df_squad.shape[0]):\n",
        "        entry = {\n",
        "            \"id\": df_squad['id'][i],\n",
        "            \"title\": df_squad['title'][i],\n",
        "            \"context\": df_squad['context'][i],\n",
        "            \"question\": df_squad['question'][i],\n",
        "            \"answers\": df_squad['answers'][i],\n",
        "        }\n",
        "        f.write(json.dumps(entry) + \"\\n\")\n"
      ]
    },
    {
      "cell_type": "code",
      "execution_count": null,
      "metadata": {
        "id": "pew1EKafTBba"
      },
      "outputs": [],
      "source": [
        "import json\n",
        "import pandas as pd\n",
        "from datasets import load_dataset\n",
        "\n",
        "# Load dataset if duorc flag is True\n",
        "if duorc:\n",
        "    dataset_duorc = load_dataset('duorc', 'SelfRC', split='test')\n",
        "    df_duorc = dataset_duorc.to_pandas()\n",
        "\n",
        "    # Drop unnecessary columns and rows\n",
        "    df_duorc = df_duorc.drop(columns=['plot_id', 'no_answer'], errors='ignore')\n",
        "    df_duorc = df_duorc[df_duorc['no_answer'] != True]\n",
        "\n",
        "    # Initialize lists for answer start positions and answers\n",
        "    start_char = []\n",
        "    to_remove = []\n",
        "\n",
        "    # Iterate over the rows to find start positions of answers\n",
        "    for i, row in df_duorc.iterrows():\n",
        "        try:\n",
        "            start_char.append(row['plot'].index(row['answers'][0]))\n",
        "        except ValueError:  # Handle case where the answer is not found in plot\n",
        "            to_remove.append(i)\n",
        "\n",
        "    # Drop rows that could not be processed\n",
        "    df_duorc = df_duorc.drop(index=to_remove)\n",
        "\n",
        "    # Reset index after removing rows\n",
        "    df_duorc = df_duorc.reset_index(drop=True)\n",
        "\n",
        "    # Create answers column as a list of dictionaries\n",
        "    df_duorc['answers'] = [\n",
        "        {'answer_start': [start], 'text': [ans]}\n",
        "        for start, ans in zip(start_char, df_duorc['answers'].apply(lambda x: x[0]))\n",
        "    ]\n",
        "\n",
        "    # Rename columns for consistency\n",
        "    df_duorc = df_duorc.rename(columns={'plot': 'context', 'question_id': 'id'})\n",
        "\n",
        "    # Write processed data to a JSON file\n",
        "    with open(\"duorc.json\", 'w') as f:  # Use 'w' to overwrite the file each time\n",
        "        for i in range(df_duorc.shape[0]):\n",
        "            entry = {\n",
        "                \"id\": df_duorc['id'][i],\n",
        "                \"title\": df_duorc['title'][i],\n",
        "                \"context\": df_duorc['context'][i],\n",
        "                \"question\": df_duorc['question'][i],\n",
        "                \"answers\": df_duorc['answers'][i],\n",
        "            }\n",
        "            f.write(json.dumps(entry) + \"\\n\")\n"
      ]
    },
    {
      "cell_type": "code",
      "execution_count": null,
      "metadata": {
        "id": "rqmb6HFhZPEc"
      },
      "outputs": [],
      "source": [
        "import json\n",
        "from datasets import load_dataset\n",
        "\n",
        "# Load dataset from files (train, validation, and test)\n",
        "dataset = load_dataset('json', data_files={'train': train_filename, 'validation': val_filename, 'test': test_filename})\n",
        "\n",
        "# Initialize the ground truth dictionary\n",
        "ground_tr_dict = {}\n",
        "\n",
        "# If the DUORC flag is True\n",
        "if duorc:\n",
        "    # Extract relevant information from the DUORC dataset\n",
        "    ground_truth = []\n",
        "    ids = dataset['test']['id']\n",
        "    answ = dataset['test']['answers']\n",
        "\n",
        "    # Iterate through the test set to extract ground truth data\n",
        "    for i in range(0, len(dataset['test'])):\n",
        "        ground_truth.append([ids[i], answ[i]['text'][0]])\n",
        "\n",
        "    # Save the ground truth data into a JSON file\n",
        "    with open('ground_truth.json', 'w') as json_file:\n",
        "        json.dump(ground_truth, json_file)\n",
        "\n",
        "    # Prepare the final ground truth dictionary\n",
        "    ground_tr_dict['data'] = df_duorc\n",
        "\n",
        "else:\n",
        "    # Prepare ground truth for other datasets (e.g., SQuAD)\n",
        "    ground_tr_dict['data'] = dataset_base['data'][train_split:]\n",
        "    ground_tr_dict['version'] = dataset_base['version'][train_split:]\n",
        "\n",
        "    # Write the ground truth for the other dataset into a JSON file\n",
        "    with open('ground_truth.json', 'w') as json_file:\n",
        "        json.dump(ground_tr_dict, json_file)\n"
      ]
    },
    {
      "cell_type": "code",
      "execution_count": null,
      "metadata": {
        "colab": {
          "base_uri": "https://localhost:8080/"
        },
        "id": "nPSyTfOiZdcc",
        "outputId": "25ccb7dc-8ca0-4379-f60d-f71d53991a21"
      },
      "outputs": [
        {
          "data": {
            "text/plain": [
              "{'id': '5733be284776f41900661182',\n",
              " 'title': 'University_of_Notre_Dame',\n",
              " 'context': 'Architecturally, the school has a Catholic character. Atop the Main Building\\'s gold dome is a golden statue of the Virgin Mary. Immediately in front of the Main Building and facing it, is a copper statue of Christ with arms upraised with the legend \"Venite Ad Me Omnes\". Next to the Main Building is the Basilica of the Sacred Heart. Immediately behind the basilica is the Grotto, a Marian place of prayer and reflection. It is a replica of the grotto at Lourdes, France where the Virgin Mary reputedly appeared to Saint Bernadette Soubirous in 1858. At the end of the main drive (and in a direct line that connects through 3 statues and the Gold Dome), is a simple, modern stone statue of Mary.',\n",
              " 'question': 'To whom did the Virgin Mary allegedly appear in 1858 in Lourdes France?',\n",
              " 'answers': {'text': ['Saint Bernadette Soubirous'], 'answer_start': [515]}}"
            ]
          },
          "execution_count": 8,
          "metadata": {},
          "output_type": "execute_result"
        }
      ],
      "source": [
        "#showing our dataset\n",
        "dataset['train'][0]"
      ]
    },
    {
      "cell_type": "markdown",
      "metadata": {
        "id": "bBIzksqI80bE"
      },
      "source": [
        "Now we show the distributions of the lengths of answer, text and question (of training and test set) in order to study the dataframe and the respective results."
      ]
    },
    {
      "cell_type": "code",
      "execution_count": null,
      "metadata": {
        "id": "WtSfag9g7-lq"
      },
      "outputs": [],
      "source": [
        "def len_answer(dataset,type):\n",
        "  len_answers = []\n",
        "  for i in range(0,len(dataset[type])):\n",
        "    for j in range(0,len(dataset[type][i]['answers']['text'])):\n",
        "      len_answers.append(len(dataset[type][i]['answers']['text'][j].split()))\n",
        "  return len_answers"
      ]
    },
    {
      "cell_type": "code",
      "execution_count": null,
      "metadata": {
        "id": "a5cilkUf8LoM"
      },
      "outputs": [],
      "source": [
        "def len_maker(dataset,type,feature):\n",
        "  len_ = []\n",
        "  for i in range(0,len(dataset[type])):\n",
        "      len_.append(len(dataset[type][i][feature].split()))\n",
        "  return len_"
      ]
    },
    {
      "cell_type": "code",
      "execution_count": null,
      "metadata": {
        "id": "QOJvLb5N8Q2B"
      },
      "outputs": [],
      "source": [
        "# len_answers = len_answer(dataset,\"train\")\n",
        "# keys, counts = np.unique(len_answers, return_counts=True)\n",
        "\n",
        "# plt.figure(figsize=(8,5))\n",
        "# plt.bar(keys, counts)\n",
        "# plt.title('Distribution of Answers length on Training Set', fontsize=16)\n",
        "# plt.ylabel('Number of answer')\n",
        "# plt.xlabel('Answer Length in words')\n",
        "# plt.show()"
      ]
    },
    {
      "cell_type": "code",
      "execution_count": null,
      "metadata": {
        "id": "4e-F6E-Z8Uow"
      },
      "outputs": [],
      "source": [
        "# len_answers_val = len_answer(dataset,\"test\")\n",
        "# keys, counts = np.unique(len_answers_val, return_counts=True)\n",
        "\n",
        "# plt.figure(figsize=(8,5))\n",
        "# plt.bar(keys, counts)\n",
        "# plt.title('Distribution of Answers length on Test Set', fontsize=16)\n",
        "# plt.ylabel('Number of answers')\n",
        "# plt.xlabel('Answer Length in words')\n",
        "# plt.show()"
      ]
    },
    {
      "cell_type": "code",
      "execution_count": null,
      "metadata": {
        "colab": {
          "base_uri": "https://localhost:8080/",
          "height": 352
        },
        "id": "nlodAgmI8gUC",
        "outputId": "1bcca93b-2ce7-4d77-9337-78fbaf9d16f5"
      },
      "outputs": [
        {
          "data": {
            "image/png": "[encoded data removed]",
            "text/plain": [
              "<Figure size 576x360 with 1 Axes>"
            ]
          },
          "metadata": {
            "needs_background": "light"
          },
          "output_type": "display_data"
        }
      ],
      "source": [
        "len_question = len_maker(dataset,\"train\", \"question\")\n",
        "keys, counts = np.unique(len_question, return_counts=True)\n",
        "\n",
        "plt.figure(figsize=(8,5))\n",
        "plt.bar(keys, counts)\n",
        "plt.title('Question Length Distribution on Training Set', fontsize=16)\n",
        "plt.ylabel('Number of question')\n",
        "plt.xlabel('Question length in words')\n",
        "plt.show()"
      ]
    },
    {
      "cell_type": "code",
      "execution_count": null,
      "metadata": {
        "id": "w4e9DB7I8gXu"
      },
      "outputs": [],
      "source": [
        "len_question_val = len_maker(dataset,\"validation\", \"question\")\n",
        "keys, counts = np.unique(len_question_val, return_counts=True)\n",
        "\n",
        "plt.figure(figsize=(8,5))\n",
        "plt.bar(keys, counts)\n",
        "plt.title('Question Length Distribution on Test Set', fontsize=16)\n",
        "plt.ylabel('Number of question')\n",
        "plt.xlabel('Question length in words')\n",
        "plt.show()"
      ]
    },
    {
      "cell_type": "code",
      "execution_count": null,
      "metadata": {
        "id": "uyoAExEdnqJF"
      },
      "outputs": [],
      "source": [
        "batch_size = 2 # suggested by the official paper at 16-32, but due to technical limitation we are forced to set it at 2 and still works well\n",
        "learning_rate = 2e-5 # other admissible by suggestion are 5e-5 and 3e-5\n",
        "num_train_epochs = 3  #Usually for all the 3 models the best number of epochs before starting overfitting\n",
        "weight_decay = 0.01\n",
        "max_length = 384  # The maximum length of a feature (question and context)\n",
        "doc_stride = 128  # The authorized overlap between two part of the context when splitting it is needed.\n",
        "tokenizer = AutoTokenizer.from_pretrained(model_checkpoint)"
      ]
    },
    {
      "cell_type": "code",
      "execution_count": null,
      "metadata": {
        "id": "COV-dRz7nqJI"
      },
      "outputs": [],
      "source": [
        "def tokenize_dataset(dataset):\n",
        "    #Since the roberta-like tokenizer have problems to deal with long sequences of spaces before and after the\n",
        "    #text, it is needed some more data cleaning\n",
        "    if model_checkpoint == \"roberta-base\" or \"distilroberta-base\":\n",
        "        dataset[\"question\"] = [q.lstrip() for q in dataset[\"question\"]]\n",
        "    # Tokenize our questions with truncation and padding, but keep the overflows using a stride. This results\n",
        "    # in one question possible giving several features when a context is long, each of those features having a\n",
        "    # context that overlaps a bit the context of the previous feature.\n",
        "\n",
        "    tokenized_dataset = tokenizer(  dataset[\"question\"], dataset[\"context\"],\n",
        "                                    truncation=\"only_second\",\n",
        "                                    max_length=max_length,\n",
        "                                    stride=doc_stride,\n",
        "                                    return_overflowing_tokens=True,\n",
        "                                    return_offsets_mapping=True,\n",
        "                                    padding=\"max_length\",\n",
        "    )\n",
        "\n",
        "\n",
        "    # Since one example might give us several features if it has a long context, we need a map from a feature to\n",
        "    # its corresponding question. This key gives us just that.\n",
        "\n",
        "    overflowing_tokens = tokenized_dataset.pop(\"overflow_to_sample_mapping\") #with pop we remove the selected column from the dataset and we store it in sample mapping,\n",
        "                                                                         #basically this is a vector with enumerations from 0 to the lenght of the vector\n",
        "                                                                         #created by return_overflowing_tokens in the tokenizer object\n",
        "\n",
        "    # The offset mappings will give us a map from token to character position in the original context. This will\n",
        "    # help us compute the start_positions and end_positions.\n",
        "\n",
        "    offset_mapping = tokenized_dataset.pop(\"offset_mapping\") # created by return_offsets_mapping in the tokenizer object\n",
        "\n",
        "\n",
        "    # Now we have to label the questions\n",
        "\n",
        "    tokenized_dataset[\"start_positions\"] , tokenized_dataset[\"end_positions\"] = list(),list()\n",
        "\n",
        "\n",
        "    for i, offsets in enumerate(offset_mapping):\n",
        "        # We will label impossible answers (the answer is in another feature given by an example with a long context), with the index of the CLS token.\n",
        "        input_ids = tokenized_dataset[\"input_ids\"][i] # The list of numerical token associated to the words of the i-th context\n",
        "\n",
        "        #The first token of every sequence is always a special classification token ([CLS]), in this case is tokenizer.cls_token_id = 101. The final hidden state corresponding to this token is used\n",
        "        # as the aggregate sequence representation for classification tasks. The last token of every sequence is instead 102.\n",
        "        cls_index = input_ids.index(tokenizer.cls_token_id) #usually 0\n",
        "\n",
        "        # Grab the sequence corresponding to that example (to know what is the context and what is the question).\n",
        "        # If None, it's a separator (i.e. CLS), 0 is the question tag, 1 is the answer one\n",
        "        sequence_ids = tokenized_dataset.sequence_ids(i)\n",
        "        # One example can give several spans, this is the index of the example containing this span of text.\n",
        "        sample_index = overflowing_tokens[i]\n",
        "        answers = dataset[\"answers\"][sample_index]\n",
        "\n",
        "\n",
        "        # Start/end character index of the answer in the text.\n",
        "\n",
        "        start_char = answers[\"answer_start\"][0]\n",
        "        end_char = start_char + len(answers[\"text\"][0])\n",
        "\n",
        "        # Start token index of the current span in the text.\n",
        "        token_start_index = 0\n",
        "        while sequence_ids[token_start_index] != 1:\n",
        "            token_start_index += 1\n",
        "\n",
        "        # End token index of the current span in the text.\n",
        "        token_end_index = len(input_ids) - 1\n",
        "        while sequence_ids[token_end_index] != 1:\n",
        "            token_end_index -= 1\n",
        "\n",
        "        # Detect if the answer is out of the span (in which case this feature is labeled with the CLS index).\n",
        "        if(offsets[token_start_index][0] > start_char\n",
        "                or offsets[token_end_index][1] < end_char):\n",
        "\n",
        "            tokenized_dataset[\"start_positions\"].append(cls_index)\n",
        "            tokenized_dataset[\"end_positions\"].append(cls_index)\n",
        "        else:\n",
        "            # Otherwise move the token_start_index and token_end_index to the two ends of the answer.\n",
        "            # Note: we could go after the last offset if we are in the edge case such that the answer is the last word.\n",
        "            while (\n",
        "                token_start_index < len(offsets)\n",
        "                and offsets[token_start_index][0] <= start_char\n",
        "            ):\n",
        "                token_start_index += 1\n",
        "            tokenized_dataset[\"start_positions\"].append(token_start_index - 1)\n",
        "            while offsets[token_end_index][1] >= end_char:\n",
        "                token_end_index -= 1\n",
        "            tokenized_dataset[\"end_positions\"].append(token_end_index + 1)\n",
        "\n",
        "    return tokenized_dataset\n",
        "\n",
        "\n",
        "tokenized_datasets = dataset.map(tokenize_dataset, batched=True, remove_columns=dataset[\"train\"].column_names)"
      ]
    },
    {
      "cell_type": "markdown",
      "metadata": {
        "id": "3i5mZgmmfN6g"
      },
      "source": [
        "Now we need a data collator that simply collates batches of our processed examples together.\n",
        "\n",
        "Then we can use this data collator to turn our data into a `tf.data.Dataset`, ready for training."
      ]
    },
    {
      "cell_type": "code",
      "execution_count": null,
      "metadata": {
        "id": "ySxVUoKbnqJJ"
      },
      "outputs": [],
      "source": [
        "data_collator = DefaultDataCollator(return_tensors=\"tf\")\n",
        "\n",
        "train_set = tokenized_datasets[\"train\"].to_tf_dataset(\n",
        "    columns=[\"attention_mask\", \"input_ids\", \"start_positions\", \"end_positions\"],\n",
        "    shuffle=True,\n",
        "    batch_size=batch_size,\n",
        "    collate_fn=data_collator,)\n",
        "\n",
        "validation_set = tokenized_datasets[\"validation\"].to_tf_dataset(\n",
        "    columns=[\"attention_mask\", \"input_ids\", \"start_positions\", \"end_positions\"],\n",
        "    shuffle=False,\n",
        "    batch_size=batch_size,\n",
        "    collate_fn=data_collator,)"
      ]
    },
    {
      "cell_type": "code",
      "execution_count": null,
      "metadata": {
        "id": "oi9RzE6MnqJK"
      },
      "outputs": [],
      "source": [
        "total_train_steps = (len(tokenized_datasets[\"train\"]) // batch_size) * num_train_epochs\n",
        "optimizer, schedule = create_optimizer(init_lr=learning_rate, num_warmup_steps=0, num_train_steps=total_train_steps)\n",
        "\n",
        "model = TFAutoModelForQuestionAnswering.from_pretrained(model_checkpoint)\n",
        "model.compile(optimizer=optimizer)\n",
        "\n",
        "path = './fine_tuned_' + model_checkpoint +  '/'\n",
        "\n",
        "if train == True:\n",
        "    model.fit(train_set, epochs=num_train_epochs, validation_data=validation_set)\n",
        "    model.save_pretrained(path)\n",
        "else:\n",
        "    model.load_weights(path + 'tf_model.h5')"
      ]
    },
    {
      "cell_type": "code",
      "execution_count": null,
      "metadata": {
        "id": "Wv0vQEl-nqJL"
      },
      "outputs": [],
      "source": [
        "def prepare_test_features(dataset):\n",
        "    #Since the roberta-like tokenizer have problems to deal with long sequences of spaces before and after the\n",
        "    #text, it is needed some more data cleaning\n",
        "    if model_checkpoint == \"roberta-base\" or \"distilroberta-base\":\n",
        "        dataset[\"question\"] = [q.lstrip() for q in dataset[\"question\"]]\n",
        "    # Tokenize our questions with truncation and padding, but keep the overflows using a stride. This results\n",
        "    # in one question possible giving several features when a context is long, each of those features having a\n",
        "    # context that overlaps a bit the context of the previous feature.\n",
        "    tokenized_dataset = tokenizer(\n",
        "        dataset[\"question\"],\n",
        "        dataset[\"context\"],\n",
        "        truncation=\"only_second\",\n",
        "        max_length=max_length,\n",
        "        stride=doc_stride,\n",
        "        return_overflowing_tokens=True,\n",
        "        return_offsets_mapping=True,\n",
        "        padding=\"max_length\",\n",
        "    )\n",
        "\n",
        "    # Since one example might give us several features if it has a long context, we need a map from a feature to\n",
        "    # its corresponding example. This key gives us just that.\n",
        "    overflowing_tokens = tokenized_dataset.pop(\"overflow_to_sample_mapping\")\n",
        "\n",
        "    # We keep the example_id that gave us this feature and we will store the offset mappings.\n",
        "    tokenized_dataset[\"example_id\"] = []\n",
        "\n",
        "    for i in range(len(tokenized_dataset[\"input_ids\"])):\n",
        "        # Grab the sequence corresponding to that example (to know what is the context and what is the question).\n",
        "        sequence_ids = tokenized_dataset.sequence_ids(i)\n",
        "        context_index = 1\n",
        "\n",
        "        # One example can give several spans, this is the index of the example containing this span of text.\n",
        "        token_index = overflowing_tokens[i]\n",
        "        tokenized_dataset[\"example_id\"].append(dataset[\"id\"][token_index])\n",
        "\n",
        "        # Set to None the offset_mapping that are not part of the context so it's easy to determine if a token\n",
        "        # position is part of the context or not.\n",
        "        tokenized_dataset[\"offset_mapping\"][i] = [\n",
        "            (o if sequence_ids[k] == context_index else None)\n",
        "            for k, o in enumerate(tokenized_dataset[\"offset_mapping\"][i])]\n",
        "\n",
        "    return tokenized_dataset"
      ]
    },
    {
      "cell_type": "markdown",
      "metadata": {
        "id": "LJz1lPnjIdYE"
      },
      "source": [
        "Now we can finally prepare the test dataset and"
      ]
    },
    {
      "cell_type": "code",
      "execution_count": null,
      "metadata": {
        "id": "672Yg0-bnqJL"
      },
      "outputs": [],
      "source": [
        "test_features = dataset[\"test\"].map(\n",
        "    prepare_test_features,\n",
        "    batched=True,\n",
        "    remove_columns=dataset[\"test\"].column_names)\n",
        "\n",
        "test_dataset = test_features.to_tf_dataset(\n",
        "    columns=[\"attention_mask\", \"input_ids\"],\n",
        "    shuffle=False,\n",
        "    batch_size=batch_size,\n",
        "    collate_fn=data_collator)\n",
        "\n",
        "raw_predictions = model.predict(test_dataset)\n"
      ]
    },
    {
      "cell_type": "code",
      "execution_count": null,
      "metadata": {
        "id": "f8LJ5ReKnqJM"
      },
      "outputs": [],
      "source": [
        "def postprocess_qa_predictions(\n",
        "    examples,\n",
        "    features,\n",
        "    all_start_logits,\n",
        "    all_end_logits,\n",
        "    n_best_size=20,\n",
        "    max_answer_length=30,\n",
        "):\n",
        "    # Build a map example to its corresponding features.\n",
        "    example_id_to_index = {k: i for i, k in enumerate(examples[\"id\"])}\n",
        "    features_per_example = collections.defaultdict(list)\n",
        "\n",
        "    for i, feature in enumerate(features):\n",
        "        features_per_example[example_id_to_index[feature[\"example_id\"]]].append(i)\n",
        "\n",
        "    # The dictionaries we have to fill.\n",
        "    predictions = collections.OrderedDict()\n",
        "\n",
        "    print(\n",
        "        f\"Post-processing {len(examples)} example predictions split into {len(features)} features.\"\n",
        "    )\n",
        "\n",
        "    # Now we need to\n",
        "    for example_index, example in enumerate(tqdm(examples)):\n",
        "        # Those are the indices of the features associated to the current example.\n",
        "        feature_indices = features_per_example[example_index]\n",
        "\n",
        "        valid_answers = []\n",
        "\n",
        "        context = example[\"context\"]\n",
        "        # Looping through all the features associated to the current example.\n",
        "        for feature_index in feature_indices:\n",
        "            # We grab the predictions of the model for this feature.\n",
        "            start_logits = all_start_logits[feature_index]\n",
        "            end_logits = all_end_logits[feature_index]\n",
        "            # This is what will allow us to map some the positions in our logits to span of texts in the original\n",
        "            # context.\n",
        "            offset_mapping = features[feature_index][\"offset_mapping\"]\n",
        "\n",
        "            # Update minimum null prediction.\n",
        "            cls_index = features[feature_index][\"input_ids\"].index(\n",
        "                tokenizer.cls_token_id\n",
        "            )\n",
        "            feature_null_score = start_logits[cls_index] + end_logits[cls_index]\n",
        "            min_null_score = feature_null_score\n",
        "\n",
        "            # Go through all possibilities for the n_best_size greater start and end logits.\n",
        "            start_indexes = np.argsort(start_logits)[ -1 : -n_best_size - 1 : -1 ].tolist()\n",
        "            end_indexes = np.argsort(end_logits)[-1 : -n_best_size - 1 : -1].tolist()\n",
        "\n",
        "            for start_index in start_indexes:\n",
        "                for end_index in end_indexes:\n",
        "                    # Don't consider out-of-scope answers, either because the indices are out of bounds or correspond\n",
        "                    # to part of the input_ids that are not in the context.\n",
        "                    if (\n",
        "                        start_index >= len(offset_mapping)\n",
        "                        or end_index >= len(offset_mapping)\n",
        "                        or offset_mapping[start_index] is None\n",
        "                        or offset_mapping[end_index] is None\n",
        "                    ):\n",
        "                        continue\n",
        "                    # Don't consider answers with a length that is either < 0 or > max_answer_length.\n",
        "                    if (\n",
        "                        end_index < start_index\n",
        "                        or end_index - start_index + 1 > max_answer_length\n",
        "                    ):\n",
        "                        continue\n",
        "\n",
        "                    try:\n",
        "\n",
        "                        start_char = offset_mapping[start_index][0]\n",
        "                        end_char = offset_mapping[end_index][1]\n",
        "                        valid_answers.append(\n",
        "                            {\n",
        "                                \"score\": start_logits[start_index] + end_logits[end_index],\n",
        "                                \"text\": context[start_char:end_char],\n",
        "                            }\n",
        "                        )\n",
        "\n",
        "                    except IndexError:\n",
        "                        start_char = 0\n",
        "                        end_char = 0\n",
        "                        valid_answers.append(\n",
        "                            {\n",
        "                                \"score\": 0,\n",
        "                                \"text\": context[start_char:end_char],\n",
        "                            }\n",
        "                        )\n",
        "\n",
        "        if len(valid_answers) > 0:\n",
        "            best_answer = sorted(valid_answers, key=lambda x: x[\"score\"], reverse=True)[\n",
        "                0\n",
        "            ]\n",
        "        else:\n",
        "            # In the very rare edge case we have not a single non-null prediction, we create a fake prediction to avoid\n",
        "            # failure.\n",
        "            best_answer = {\"text\": \"\", \"score\": 0.0}\n",
        "\n",
        "        predictions[example[\"id\"]] = best_answer[\"text\"]\n",
        "\n",
        "\n",
        "    return predictions\n",
        "\n",
        "final_predictions = postprocess_qa_predictions(\n",
        "    dataset[\"test\"],\n",
        "    test_features,\n",
        "    raw_predictions[\"start_logits\"],\n",
        "    raw_predictions[\"end_logits\"])"
      ]
    },
    {
      "cell_type": "code",
      "execution_count": null,
      "metadata": {
        "colab": {
          "base_uri": "https://localhost:8080/"
        },
        "id": "AstRc-qAnqJO",
        "outputId": "52cbe73b-b0a4-4ea0-95d8-9fa9dd1544ba"
      },
      "outputs": [
        {
          "name": "stdout",
          "output_type": "stream",
          "text": [
            "{\n",
            "  \"exact\": 64.24044734389562,\n",
            "  \"f1\": 79.99211122229185,\n",
            "  \"total\": 21460,\n",
            "  \"HasAns_exact\": 64.24044734389562,\n",
            "  \"HasAns_f1\": 79.99211122229185,\n",
            "  \"HasAns_total\": 21460\n",
            "}\n"
          ]
        }
      ],
      "source": [
        "#CODE TO EVALUATE THE QUALITY OF THE MODEL'S ANSWERS\n",
        "with open('predictions.json', 'w') as json_file:\n",
        "    json.dump(final_predictions, json_file)\n",
        "\n",
        "if duorc == True:\n",
        "  exact_scores, f1_scores = ev.get_raw_scores_duorc(ground_truth, final_predictions)\n",
        "  print(ev.make_eval_dict(exact_scores, f1_scores))\n",
        "else:\n",
        "  !python3 evaluate.py ground_truth.json predictions.json"
      ]
    }
  ],
  "metadata": {
    "accelerator": "GPU",
    "colab": {
      "provenance": []
    },
    "kernelspec": {
      "display_name": "Python 3 (ipykernel)",
      "language": "python",
      "name": "python3"
    },
    "language_info": {
      "codemirror_mode": {
        "name": "ipython",
        "version": 3
      },
      "file_extension": ".py",
      "mimetype": "text/x-python",
      "name": "python",
      "nbconvert_exporter": "python",
      "pygments_lexer": "ipython3",
      "version": "3.9.7"
    }
  },
  "nbformat": 4,
  "nbformat_minor": 0
}